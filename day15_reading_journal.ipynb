{
 "cells": [
  {
   "cell_type": "markdown",
   "metadata": {},
   "source": [
    "# Day 15 Reading Journal\n",
    "\n",
    "This journal includes review questions relating to Think Python Chapter 16-18.\n",
    "\n",
    "**Due: Thursday, October 27 at 12 noon**"
   ]
  },
  {
   "cell_type": "markdown",
   "metadata": {},
   "source": [
    "## Q1. Describe the difference between an attribute and a method."
   ]
  },
  {
   "cell_type": "markdown",
   "metadata": {},
   "source": [
    "An attribute is a variable that is specific to and defined in the class, while a method is a function specific to and defined in a class."
   ]
  },
  {
   "cell_type": "markdown",
   "metadata": {},
   "source": [
    "## Q2. Describe the relation between a method and a function."
   ]
  },
  {
   "cell_type": "markdown",
   "metadata": {},
   "source": [
    "A function is defined outside of a class, while a method is defined inside of the class."
   ]
  },
  {
   "cell_type": "markdown",
   "metadata": {},
   "source": [
    "## Q3. Which of these is a pure function? Which is a modifier?\n",
    "Label them by fixing the comments."
   ]
  },
  {
   "cell_type": "code",
   "execution_count": 3,
   "metadata": {
    "collapsed": true
   },
   "outputs": [],
   "source": [
    "class Point(object):\n",
    "    \"\"\"Represents a point in 2-D space.\"\"\"\n",
    "    \n",
    "    def __init__(self, x, y):\n",
    "        self.x = x\n",
    "        self.y = y\n",
    "\n",
    "    def translate(self, dx, dy):\n",
    "        \"\"\"A {modifier} that translates the point by (dx, dy)\"\"\"\n",
    "\n",
    "        self.x += dx\n",
    "        self.y += dy\n",
    "    \n",
    "    def translated(self, dx, dy):\n",
    "        \"\"\"A {pure function} that translates the point by (dx, dy)\"\"\"\n",
    "\n",
    "        return Point(self.x + dx, self.y + dy)"
   ]
  },
  {
   "cell_type": "markdown",
   "metadata": {},
   "source": [
    "## Inheritance\n",
    "### Q4. You are designing a college registration system. Which (if any) of the following classes might plausibly inherit from each other?\n",
    "\n",
    "Where a class should inherit from another class, show this by replacing `object` in the code below.\n",
    "\n",
    "Optional: Add additional class definitions, to show more opportunities for inheritance."
   ]
  },
  {
   "cell_type": "code",
   "execution_count": 2,
   "metadata": {
    "collapsed": true
   },
   "outputs": [],
   "source": [
    "class Student(object):\n",
    "    pass\n",
    "\n",
    "class Instructor(object):\n",
    "    pass\n",
    "\n",
    "class Course(Day, Student, Instructor): #a course has a day, students, and an intstructor\n",
    "    pass\n",
    "\n",
    "class EngineeringCourse(Day, Course):\n",
    "    pass\n",
    "\n",
    "class SoftwareEngineeringCourse(EngineeringCourse): #also inherits day and course from engineering course\n",
    "    pass\n",
    "\n",
    "class Day(object):\n",
    "    pass\n",
    "\n",
    "class Thursday(Day): #thursday is a day\n",
    "    pass"
   ]
  },
  {
   "cell_type": "markdown",
   "metadata": {},
   "source": [
    "### Q5. You are designing a graphics system. Which (if any) of the following classes might plausibly inherit from each other?\n",
    "\n",
    "Where a class should inherit from another class, show this by replacing `object` in the code below.\n",
    "\n",
    "Optional: Add additional class definitions, to show more opportunities for inheritance."
   ]
  },
  {
   "cell_type": "code",
   "execution_count": 1,
   "metadata": {
    "collapsed": true
   },
   "outputs": [],
   "source": [
    "class Point(object): #the main class\n",
    "    pass\n",
    "\n",
    "class Rectangle(Shape): #a rectangle is a shape, and also inherits point\n",
    "    pass\n",
    "\n",
    "class Square(Rectangle): #a square is a rectangle\n",
    "    pass\n",
    "\n",
    "class Ellipse(Shape): #since an ellipse is not a rectangle, it inherits from shape\n",
    "    pass\n",
    "\n",
    "class Shape(Point): #points are used to define shapes\n",
    "    pass\n",
    "\n",
    "class GeometricObject(Shape): #not even sure what this class is supposed to be, but I think it's basically a shape???\n",
    "    pass"
   ]
  },
  {
   "cell_type": "markdown",
   "metadata": {},
   "source": [
    "# Quick poll\n",
    "Are there topics where you'd like additional coverage?"
   ]
  },
  {
   "cell_type": "markdown",
   "metadata": {
    "collapsed": true
   },
   "source": [
    "has_a vs. is_a relationships :)"
   ]
  },
  {
   "cell_type": "markdown",
   "metadata": {},
   "source": [
    " "
   ]
  }
 ],
 "metadata": {
  "anaconda-cloud": {},
  "kernelspec": {
   "display_name": "Python 2",
   "language": "python",
   "name": "python2"
  },
  "language_info": {
   "codemirror_mode": {
    "name": "ipython",
    "version": 2
   },
   "file_extension": ".py",
   "mimetype": "text/x-python",
   "name": "python",
   "nbconvert_exporter": "python",
   "pygments_lexer": "ipython2",
   "version": "2.7.6"
  }
 },
 "nbformat": 4,
 "nbformat_minor": 0
}
