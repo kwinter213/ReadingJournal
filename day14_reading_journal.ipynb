{
 "cells": [
  {
   "cell_type": "markdown",
   "metadata": {},
   "source": [
    "# Day 14 Reading Journal\n",
    "\n",
    "This journal includes review questions relating to Think Python Chapter 17.\n",
    "\n",
    "**Due: Monday, October 24 at 12 noon**"
   ]
  },
  {
   "cell_type": "markdown",
   "metadata": {},
   "source": [
    "## Exercise 1\n",
    "Starting with the `Point` method from Exercise 15-1 on day 12, add an initialization method to make the following code work."
   ]
  },
  {
   "cell_type": "code",
   "execution_count": 2,
   "metadata": {
    "collapsed": false
   },
   "outputs": [
    {
     "name": "stdout",
     "output_type": "stream",
     "text": [
      "10\n",
      "20\n"
     ]
    }
   ],
   "source": [
    "class Point(object):\n",
    "    \"\"\"Represents a point in 2-D space.\"\"\"\n",
    "    def __init__(self,x, y):\n",
    "        self.x=x\n",
    "        self.y=y\n",
    "\n",
    "    \n",
    "p1 = Point(10, 20)\n",
    "print p1.x  # should print 10\n",
    "print p1.y  # should print 20"
   ]
  },
  {
   "cell_type": "markdown",
   "metadata": {},
   "source": []
  },
  {
   "cell_type": "markdown",
   "metadata": {},
   "source": [
    "## Exercise 2\n",
    "In the space below, modify your answer to Exercise 1 to make the following code work."
   ]
  },
  {
   "cell_type": "code",
   "execution_count": 17,
   "metadata": {
    "collapsed": false
   },
   "outputs": [
    {
     "name": "stdout",
     "output_type": "stream",
     "text": [
      "(10,20)\n",
      "<__main__.Point object at 0x7fbea8355b90>\n",
      "(1,3)\n",
      "<__main__.Point object at 0x7fbea8355750>\n"
     ]
    }
   ],
   "source": [
    "class Point(object):\n",
    "    \"\"\"Represents a point in 2-D space.\"\"\"\n",
    "    def __init__(self,x, y):\n",
    "        self.x=x\n",
    "        self.y=y\n",
    "        self.print_Point()\n",
    "        \n",
    "    def print_Point(point):\n",
    "        print \"({0},{1})\".format(point.x,point.y) #how does one not print the pointer???\n",
    "                \n",
    "# Don't change the line below here\n",
    "p1 = Point(10, 20)\n",
    "print p1  # should print (10, 20)\n",
    "print Point(1, 3)  # should print (1, 3)"
   ]
  },
  {
   "cell_type": "markdown",
   "metadata": {},
   "source": [
    "## Exercise 3\n",
    "In the space below, modify your answer to Exercise 2 to make the following code work."
   ]
  },
  {
   "cell_type": "code",
   "execution_count": 16,
   "metadata": {
    "collapsed": false
   },
   "outputs": [
    {
     "name": "stdout",
     "output_type": "stream",
     "text": [
      "10x20\n",
      "<__main__.Point object at 0x7fbea8355750>\n",
      "1x3\n",
      "<__main__.Point object at 0x7fbea8355910>\n"
     ]
    }
   ],
   "source": [
    "class Point(object):\n",
    "    \"\"\"Represents a point in 2-D space.\"\"\"\n",
    "    def __init__(self,x, y):\n",
    "        self.x=x\n",
    "        self.y=y\n",
    "        self.print_Point()\n",
    "        \n",
    "    def print_Point(point):\n",
    "        print \"{0}x{1}\".format(point.x,point.y) ##help on this one, I'm not sure how to not print the pointer... :(\n",
    "\n",
    "# Don't change the line below here\n",
    "p1 = Point(10, 20)\n",
    "print p1  # should print 10x20\n",
    "print Point(1, 3)  # should print 1x3"
   ]
  },
  {
   "cell_type": "markdown",
   "metadata": {},
   "source": [
    "# Quick poll\n",
    "About how long did you spend working on this Reading Journal?"
   ]
  },
  {
   "cell_type": "markdown",
   "metadata": {
    "collapsed": true
   },
   "source": [
    "Maybe like 2 hours??? I just can't figure out the pointer thing???"
   ]
  },
  {
   "cell_type": "markdown",
   "metadata": {},
   "source": [
    " "
   ]
  }
 ],
 "metadata": {
  "anaconda-cloud": {},
  "kernelspec": {
   "display_name": "Python 2",
   "language": "python",
   "name": "python2"
  },
  "language_info": {
   "codemirror_mode": {
    "name": "ipython",
    "version": 2
   },
   "file_extension": ".py",
   "mimetype": "text/x-python",
   "name": "python",
   "nbconvert_exporter": "python",
   "pygments_lexer": "ipython2",
   "version": "2.7.6"
  }
 },
 "nbformat": 4,
 "nbformat_minor": 0
}
