{
 "cells": [
  {
   "cell_type": "markdown",
   "metadata": {},
   "source": [
    "# Day 13 Reading Journal\n",
    "\n",
    "This journal includes review questions relating to Think Python Chapter 16.\n",
    "\n",
    "**Due: Thursday, October 20 at 12 noon**"
   ]
  },
  {
   "cell_type": "markdown",
   "metadata": {},
   "source": [
    "## Exercise 16-1.\n",
    "Write a function called `print_time` that takes a Time object and prints it in the form `hour:minute:second`.\n",
    "Hint: the format sequence `'%.2d'` prints an integer using at least two digits, including a leading zero if necessary."
   ]
  },
  {
   "cell_type": "code",
   "execution_count": 11,
   "metadata": {
    "collapsed": false
   },
   "outputs": [
    {
     "name": "stdout",
     "output_type": "stream",
     "text": [
      "The time is 3:44:12\n"
     ]
    }
   ],
   "source": [
    "class Time(object):\n",
    "    \"\"\"Represents the time of day.\n",
    "    attributes: hour, minute, second\n",
    "    \"\"\"\n",
    "\n",
    "def print_time(t1):\n",
    "    print \"The time is {0}:{1}:{2}\".format(t1.hour, t1.minute, t1.second)\n",
    "    \n",
    "time1=Time()\n",
    "time1.hour=3\n",
    "time1.minute=44\n",
    "time1.second=12\n",
    "print_time(time1)"
   ]
  },
  {
   "cell_type": "markdown",
   "metadata": {},
   "source": []
  },
  {
   "cell_type": "markdown",
   "metadata": {},
   "source": [
    "## Exercise 16-2\n",
    "Write a boolean function called `is_after` that takes two Time objects, `t1` and `t2`, and returns `True` if `t1` follows `t2` chronologically and `False` otherwise.\n",
    "\n",
    "Challenge: don’t use an `if` statement."
   ]
  },
  {
   "cell_type": "code",
   "execution_count": 7,
   "metadata": {
    "collapsed": false
   },
   "outputs": [
    {
     "name": "stdout",
     "output_type": "stream",
     "text": [
      "True\n"
     ]
    }
   ],
   "source": [
    "def is_after(t1, t2):\n",
    "    totalt1=t1.hour*3600+t1.minute*60+t1.second\n",
    "    totalt2=t2.hour*3600+t2.minute*60+t2.second\n",
    "    return totalt1>totalt2 #challenging muhself\n",
    "            \n",
    "time1=Time()\n",
    "time1.hour=3\n",
    "time1.minute=44\n",
    "time1.second=12\n",
    "\n",
    "time2=Time()\n",
    "time2.hour=3\n",
    "time2.minute=44\n",
    "time2.second=13\n",
    "\n",
    "print is_after(time2, time1)"
   ]
  },
  {
   "cell_type": "markdown",
   "metadata": {},
   "source": [
    "## Modifiers\n",
    "Complete the code below, such that it demonstrates:\n",
    "\n",
    "* `increment` behaving as specified\n",
    "* `increment` with incorrect behavior"
   ]
  },
  {
   "cell_type": "code",
   "execution_count": 13,
   "metadata": {
    "collapsed": false
   },
   "outputs": [
    {
     "name": "stdout",
     "output_type": "stream",
     "text": [
      "The time is 4:16:15\n",
      "The time is 4:16:75\n"
     ]
    }
   ],
   "source": [
    "class Time(object):\n",
    "    \"\"\"Represents the time of day.\n",
    "    attributes: hour, minute, second\n",
    "    \"\"\"\n",
    "\n",
    "    def increment(time, seconds):\n",
    "        time.second += seconds\n",
    "        if time.second >= 60:\n",
    "            time.second -= 60\n",
    "            time.minute += 1\n",
    "        if time.minute >= 60:\n",
    "            time.minute -= 60\n",
    "            time.hour += 1\n",
    "\n",
    "t1 = Time()\n",
    "t1.second=30\n",
    "t1.minute=15\n",
    "t1.hour=4\n",
    "Time.increment(t1,45)\n",
    "print_time(t1)\n",
    "\n",
    "t2 = Time() #create another instance of Time\n",
    "t2.second=30\n",
    "t2.minute=15\n",
    "t2.hour=4 #increment t2\n",
    "Time.increment(t2,105) #demonstrate that the previous call to increment behaved incorrectly\n",
    "print_time(t2)"
   ]
  },
  {
   "cell_type": "markdown",
   "metadata": {},
   "source": [
    "## Exercise 16-3 (adapted)\n",
    "Fix `increment`, and demonstrate that has the correct behavior in the case that was a problem above.\n",
    "\n",
    "Unlike the version of this question in Think Python, you are allowed (but not required) to use loops."
   ]
  },
  {
   "cell_type": "code",
   "execution_count": 17,
   "metadata": {
    "collapsed": false
   },
   "outputs": [
    {
     "name": "stdout",
     "output_type": "stream",
     "text": [
      "The time is 4:17:15\n"
     ]
    }
   ],
   "source": [
    "class Time(object):\n",
    "    \"\"\"Represents the time of day.\n",
    "    attributes: hour, minute, second\n",
    "    \"\"\"\n",
    "\n",
    "    def increment2(time, seconds):\n",
    "        time.second += seconds\n",
    "        while time.second >= 60:\n",
    "            time.second -= 60\n",
    "            time.minute += 1\n",
    "        while time.minute >= 60:\n",
    "            time.minute -= 60\n",
    "            time.hour += 1\n",
    "\n",
    "t2=Time()\n",
    "t2.second=30\n",
    "t2.minute=15\n",
    "t2.hour=4 #increment t2\n",
    "Time.increment2(t2,105) #increment t2 by the same value as in the previous question\n",
    "print_time(t2)"
   ]
  },
  {
   "cell_type": "markdown",
   "metadata": {},
   "source": [
    "## PyGame Tutorial\n",
    "Add a link to the PyGame tutorial that you studied.\n",
    "\n",
    "Write a sentence (or more) that summarize the main points of the tutorial."
   ]
  },
  {
   "cell_type": "markdown",
   "metadata": {},
   "source": [
    "http://pygame.org/docs/tut/intro/intro.html\n",
    "\n",
    "This tutorial gave me a basic understanding of how to load an image onto my screen and shake it around in a rather jarring manner. Although it didn't get me super far in my quest to finish my game, it did teach me a bit and I was able to develop a slightly annoying animation using an image that I had selected. The most helpful part though, was the end, which featured an overview of the modules that exist in pygame. This is a super helpful reference guide that I will keep in mind while developing my game."
   ]
  },
  {
   "cell_type": "markdown",
   "metadata": {},
   "source": [
    "# Quick poll\n",
    "About how long did you spend working on this Reading Journal?"
   ]
  },
  {
   "cell_type": "markdown",
   "metadata": {
    "collapsed": true
   },
   "source": [
    "An hour or so (the hardest part was learning that I had to download my own images, since I had assumed that they already existed in pygame)."
   ]
  },
  {
   "cell_type": "markdown",
   "metadata": {},
   "source": [
    " "
   ]
  }
 ],
 "metadata": {
  "anaconda-cloud": {},
  "kernelspec": {
   "display_name": "Python 2",
   "language": "python",
   "name": "python2"
  },
  "language_info": {
   "codemirror_mode": {
    "name": "ipython",
    "version": 2
   },
   "file_extension": ".py",
   "mimetype": "text/x-python",
   "name": "python",
   "nbconvert_exporter": "python",
   "pygments_lexer": "ipython2",
   "version": "2.7.6"
  }
 },
 "nbformat": 4,
 "nbformat_minor": 0
}
