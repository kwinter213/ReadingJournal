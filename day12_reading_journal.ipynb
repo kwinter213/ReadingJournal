{
 "cells": [
  {
   "cell_type": "markdown",
   "metadata": {},
   "source": [
    "# Day 9 Reading Journal\n",
    "\n",
    "This journal includes review questions relating to Think Python Chapter 14.9 and Chapter 15.\n",
    "\n",
    "**Due: Monday, October 17 at 12 noon**\n"
   ]
  },
  {
   "cell_type": "markdown",
   "metadata": {},
   "source": [
    "## Exercise 14-5"
   ]
  },
  {
   "cell_type": "markdown",
   "metadata": {
    "collapsed": true
   },
   "source": [
    "Type this example into a file named `wc.py` and run it as a script. Then run the Python interpreter and `import wc`. What is the value of `__name__` when the module is being imported?\n",
    "\n",
    "**Note**: if you get a number bigger than 10, you are probably running the code in Jupyter inside of typing it into a separate file."
   ]
  },
  {
   "cell_type": "code",
   "execution_count": null,
   "metadata": {
    "collapsed": false
   },
   "outputs": [],
   "source": [
    "def linecount(filename):\n",
    "    count = 0\n",
    "    for line in open(filename):\n",
    "        count += 1\n",
    "    return count\n",
    "\n",
    "if __name__ == '__main__':\n",
    "    print linecount('wc.py')"
   ]
  },
  {
   "cell_type": "markdown",
   "metadata": {},
   "source": [
    "The value is 8."
   ]
  },
  {
   "cell_type": "markdown",
   "metadata": {},
   "source": [
    "## Exercise 15-1.\n",
    "Write a function called distance_between_points that takes two Points as arguments and returns the distance between them."
   ]
  },
  {
   "cell_type": "code",
   "execution_count": 31,
   "metadata": {
    "collapsed": false
   },
   "outputs": [
    {
     "name": "stdout",
     "output_type": "stream",
     "text": [
      "5.0\n"
     ]
    }
   ],
   "source": [
    "import math \n",
    "\n",
    "class Point(object):\n",
    "    \n",
    "    def __init__(self): #setup\n",
    "        self.x=0 #default in this case\n",
    "        self.y=0\n",
    "    \n",
    "    def x():\n",
    "        self.x=x #sets x to x when function is called\n",
    "    \n",
    "    def y():\n",
    "        self.y=y #sets y to y\n",
    "\n",
    "def distance_between_points(p1,p2):\n",
    "    return math.sqrt((p1.x-p2.x)**2+(p1.y-p2.y)**2) #** is squaring\n",
    "\n",
    "origin = Point() #defining the origin\n",
    "origin.x=0\n",
    "origin.y=0\n",
    "\n",
    "random=Point() #testing\n",
    "random.x=3\n",
    "random.y=4\n",
    "\n",
    "randomPoint2=Point() #testing\n",
    "randomPoint2.x=1\n",
    "randomPoint2.y=1\n",
    "\n",
    "randomPoint3=Point() #testing\n",
    "randomPoint3.x=4\n",
    "randomPoint3.y=5\n",
    "\n",
    "print distance_between_points(randomPoint2,randomPoint3) #more testing"
   ]
  },
  {
   "cell_type": "markdown",
   "metadata": {},
   "source": [
    "## Mutation and Copying\n",
    "Write a function called `slide_point_right` that takes a point and a number.\n",
    "It should modify (mutate) the existing by incrementing its `x` attribute by the number."
   ]
  },
  {
   "cell_type": "code",
   "execution_count": 16,
   "metadata": {
    "collapsed": false
   },
   "outputs": [
    {
     "name": "stdout",
     "output_type": "stream",
     "text": [
      "11.0\n"
     ]
    }
   ],
   "source": [
    "def slide_point_right(pt, dx):\n",
    "    pt.x=pt.x+dx #adding dx to x\n",
    "\n",
    "mypt = Point()\n",
    "mypt.x = 10.0\n",
    "mypt.y = 20.0\n",
    "\n",
    "slide_point_right(mypt, 1.0)\n",
    "print mypt.x  # should be 11.0"
   ]
  },
  {
   "cell_type": "markdown",
   "metadata": {},
   "source": [
    "Write a function called `point_slid_right_by` that takes a point and a number (the *increment*).\n",
    "It should return a *new* point:\n",
    "\n",
    "* whose `x` attribute has the value of the input point's `x`, incremented by the number.\n",
    "* whose `y` attribute has the same value as the input point's `y` attribute"
   ]
  },
  {
   "cell_type": "code",
   "execution_count": 17,
   "metadata": {
    "collapsed": false
   },
   "outputs": [
    {
     "name": "stdout",
     "output_type": "stream",
     "text": [
      "10.0\n",
      "11.0\n",
      "20.0\n"
     ]
    }
   ],
   "source": [
    "def point_slid_right_by(pt, dx):\n",
    "    ptnew=Point() #returning a whole new point, yay!\n",
    "    ptnew.x=pt.x+dx\n",
    "    ptnew.y=pt.y\n",
    "    return ptnew\n",
    "\n",
    "pt1 = Point()\n",
    "pt1.x = 10.0\n",
    "pt1.y = 20.0\n",
    "\n",
    "pt2 = point_slid_right_by(pt1, 1.0)\n",
    "print pt1.x  # should be 10.0\n",
    "print pt2.x  # should be 11.0\n",
    "print pt2.y  # should be 20.0"
   ]
  },
  {
   "cell_type": "markdown",
   "metadata": {},
   "source": [
    "## Discussion Question 1\n",
    "A `Point` is a pair of numbers. A list, and a tuple, can also be used to represent a pair of numbers.\n",
    "What are the advantage of using a Point:\n",
    "    \n",
    "    pt1 = Point()\n",
    "    pt1.x = 10.0\n",
    "    pt2.x = 20.0\n",
    "    …\n",
    "    print distance_between_points(pt1, pt2)\n",
    "\n",
    "and a list:\n",
    "\n",
    "    pt1 = [10.0, 20.0]\n",
    "    pt2 = [100.0, 200.0]\n",
    "    print distance_between_points(pt1, pt2)\n",
    "\n",
    "or tuple:\n",
    "\n",
    "    pt1 = (10.0, 20.0)\n",
    "    pt2 = (100.0, 200.0)\n",
    "    print distance_between_points(pt1, pt2)"
   ]
  },
  {
   "cell_type": "markdown",
   "metadata": {},
   "source": [
    "You can create functions specific to the class. You can also create copies of an object that groups important pieces of information in a manner more specific to what you want to express."
   ]
  },
  {
   "cell_type": "markdown",
   "metadata": {},
   "source": [
    "## Discussion Question 2\n",
    "Why do you think Allen named the function `distance_between_points` instead of `distance`?"
   ]
  },
  {
   "cell_type": "markdown",
   "metadata": {},
   "source": [
    "This is because distance_between_points is specific to the class points instead of just variables."
   ]
  },
  {
   "cell_type": "markdown",
   "metadata": {},
   "source": [
    "# Quick poll\n",
    "About how long did you spend working on this Reading Journal?"
   ]
  },
  {
   "cell_type": "markdown",
   "metadata": {
    "collapsed": true
   },
   "source": [
    "Honestly not too long and I accidentally deleted the entirety of exercise 15.1 and had to rewrite it. It probably took me 30 minutes tops. Sorry!"
   ]
  },
  {
   "cell_type": "markdown",
   "metadata": {},
   "source": [
    " "
   ]
  }
 ],
 "metadata": {
  "anaconda-cloud": {},
  "kernelspec": {
   "display_name": "Python 2",
   "language": "python",
   "name": "python2"
  },
  "language_info": {
   "codemirror_mode": {
    "name": "ipython",
    "version": 2
   },
   "file_extension": ".py",
   "mimetype": "text/x-python",
   "name": "python",
   "nbconvert_exporter": "python",
   "pygments_lexer": "ipython2",
   "version": "2.7.6"
  }
 },
 "nbformat": 4,
 "nbformat_minor": 0
}
